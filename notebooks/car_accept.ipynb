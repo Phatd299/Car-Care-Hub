{
 "cells": [
  {
   "cell_type": "markdown",
   "metadata": {},
   "source": [
    "# Car Acceptablity Testing"
   ]
  },
  {
   "cell_type": "markdown",
   "metadata": {},
   "source": [
    "The \"Car Acceptability Testing\" module aims to evaluate and assess the suitability or acceptance of a car based on various predefined attributes or criteria. This module typically involves a set of rules or a predictive model that determines whether a given car configuration meets specific standards, making it suitable or acceptable for various purposes, such as personal use, resale, or commercial application."
   ]
  },
  {
   "cell_type": "markdown",
   "metadata": {},
   "source": [
    "## Understanding variables\n",
    "1. **Buying_Price:** Category indicating the buying price range of the car (e.g., 'vhigh', 'high', 'med', 'low').\n",
    "2. **Maintenance_Price:** Category representing the maintenance cost range of the car (e.g., 'vhigh', 'high', 'med', 'low').\n",
    "3. **No_of_Doors:** Number of doors in the car (e.g., 2, 4).\n",
    "4. **Person_Capacity:** Seating capacity of the car.\n",
    "5. **Size_of_Luggage:** Size of the luggage space in the car ('small', 'med', 'big').\n",
    "6. **Safety:** Safety rating or level of the car ('low', 'med', 'high').\n",
    "7. **Car_Acceptability:** *(Target Variable)* Acceptability category of the car ('unacc' - unacceptable, 'acc' - acceptable, 'good', 'vgood' - very good)"
   ]
  },
  {
   "cell_type": "markdown",
   "metadata": {},
   "source": [
    "## Import Libraries"
   ]
  },
  {
   "cell_type": "code",
   "execution_count": 1,
   "metadata": {},
   "outputs": [],
   "source": [
    "# Import libraries. begin, let's import the necessary libraries that we'll be using throughout this notebook:\n",
    "\n",
    "# Data Manipulation Libraries\n",
    "import numpy as np \n",
    "import pandas as pd \n",
    "\n",
    "# Data Visualization Libraries\n",
    "import seaborn as sns\n",
    "import matplotlib.pyplot as plt\n",
    "\n",
    "# Machine Learning Libraries\n",
    "from sklearn.preprocessing import LabelEncoder, StandardScaler\n",
    "from sklearn.model_selection import train_test_split, cross_val_score\n",
    "from sklearn.metrics import accuracy_score\n",
    "\n",
    "# Machine Learning Models\n",
    "from sklearn.linear_model import LogisticRegression  \n",
    "from sklearn.tree import DecisionTreeClassifier\n",
    "from sklearn.ensemble import RandomForestClassifier"
   ]
  },
  {
   "cell_type": "code",
   "execution_count": 2,
   "metadata": {},
   "outputs": [],
   "source": [
    "# knowing the name of the dataset\n",
    "import os\n",
    "for dirname, _, filenames in os.walk('..\\dataset\\car_acceptability.csv'):\n",
    "    for filename in filenames:\n",
    "        print(os.path.join(dirname, filename))"
   ]
  },
  {
   "cell_type": "code",
   "execution_count": 3,
   "metadata": {},
   "outputs": [
    {
     "data": {
      "text/html": [
       "<div>\n",
       "<style scoped>\n",
       "    .dataframe tbody tr th:only-of-type {\n",
       "        vertical-align: middle;\n",
       "    }\n",
       "\n",
       "    .dataframe tbody tr th {\n",
       "        vertical-align: top;\n",
       "    }\n",
       "\n",
       "    .dataframe thead th {\n",
       "        text-align: right;\n",
       "    }\n",
       "</style>\n",
       "<table border=\"1\" class=\"dataframe\">\n",
       "  <thead>\n",
       "    <tr style=\"text-align: right;\">\n",
       "      <th></th>\n",
       "      <th>Buying_Price</th>\n",
       "      <th>Maintenance_Price</th>\n",
       "      <th>No_of_Doors</th>\n",
       "      <th>Person_Capacity</th>\n",
       "      <th>Size_of_Luggage</th>\n",
       "      <th>Safety</th>\n",
       "      <th>Car_Acceptability</th>\n",
       "    </tr>\n",
       "  </thead>\n",
       "  <tbody>\n",
       "    <tr>\n",
       "      <th>0</th>\n",
       "      <td>vhigh</td>\n",
       "      <td>vhigh</td>\n",
       "      <td>2</td>\n",
       "      <td>2</td>\n",
       "      <td>small</td>\n",
       "      <td>low</td>\n",
       "      <td>unacc</td>\n",
       "    </tr>\n",
       "    <tr>\n",
       "      <th>1</th>\n",
       "      <td>vhigh</td>\n",
       "      <td>vhigh</td>\n",
       "      <td>2</td>\n",
       "      <td>2</td>\n",
       "      <td>small</td>\n",
       "      <td>med</td>\n",
       "      <td>unacc</td>\n",
       "    </tr>\n",
       "    <tr>\n",
       "      <th>2</th>\n",
       "      <td>vhigh</td>\n",
       "      <td>vhigh</td>\n",
       "      <td>2</td>\n",
       "      <td>2</td>\n",
       "      <td>small</td>\n",
       "      <td>high</td>\n",
       "      <td>unacc</td>\n",
       "    </tr>\n",
       "    <tr>\n",
       "      <th>3</th>\n",
       "      <td>vhigh</td>\n",
       "      <td>vhigh</td>\n",
       "      <td>2</td>\n",
       "      <td>2</td>\n",
       "      <td>med</td>\n",
       "      <td>low</td>\n",
       "      <td>unacc</td>\n",
       "    </tr>\n",
       "    <tr>\n",
       "      <th>4</th>\n",
       "      <td>vhigh</td>\n",
       "      <td>vhigh</td>\n",
       "      <td>2</td>\n",
       "      <td>2</td>\n",
       "      <td>med</td>\n",
       "      <td>med</td>\n",
       "      <td>unacc</td>\n",
       "    </tr>\n",
       "  </tbody>\n",
       "</table>\n",
       "</div>"
      ],
      "text/plain": [
       "  Buying_Price Maintenance_Price No_of_Doors Person_Capacity Size_of_Luggage  \\\n",
       "0        vhigh             vhigh           2               2           small   \n",
       "1        vhigh             vhigh           2               2           small   \n",
       "2        vhigh             vhigh           2               2           small   \n",
       "3        vhigh             vhigh           2               2             med   \n",
       "4        vhigh             vhigh           2               2             med   \n",
       "\n",
       "  Safety Car_Acceptability  \n",
       "0    low             unacc  \n",
       "1    med             unacc  \n",
       "2   high             unacc  \n",
       "3    low             unacc  \n",
       "4    med             unacc  "
      ]
     },
     "execution_count": 3,
     "metadata": {},
     "output_type": "execute_result"
    }
   ],
   "source": [
    "# Load tha data.\n",
    "df = pd.read_csv(\"..\\dataset\\car_acceptability.csv\")\n",
    "df.head()"
   ]
  },
  {
   "cell_type": "markdown",
   "metadata": {},
   "source": [
    "## Exploratory Data Analysis"
   ]
  },
  {
   "cell_type": "code",
   "execution_count": 4,
   "metadata": {},
   "outputs": [
    {
     "data": {
      "text/plain": [
       "(1728, 7)"
      ]
     },
     "execution_count": 4,
     "metadata": {},
     "output_type": "execute_result"
    }
   ],
   "source": [
    "# Seeing the shape of the data.\n",
    "df.shape"
   ]
  },
  {
   "cell_type": "code",
   "execution_count": 5,
   "metadata": {},
   "outputs": [
    {
     "data": {
      "text/plain": [
       "0"
      ]
     },
     "execution_count": 5,
     "metadata": {},
     "output_type": "execute_result"
    }
   ],
   "source": [
    "# Seeing if there are dublicated.\n",
    "df.duplicated().sum()"
   ]
  },
  {
   "cell_type": "code",
   "execution_count": 6,
   "metadata": {},
   "outputs": [
    {
     "data": {
      "text/plain": [
       "Buying_Price         0\n",
       "Maintenance_Price    0\n",
       "No_of_Doors          0\n",
       "Person_Capacity      0\n",
       "Size_of_Luggage      0\n",
       "Safety               0\n",
       "Car_Acceptability    0\n",
       "dtype: int64"
      ]
     },
     "execution_count": 6,
     "metadata": {},
     "output_type": "execute_result"
    }
   ],
   "source": [
    "# seeing if there are null values.\n",
    "df.isna().sum()"
   ]
  },
  {
   "cell_type": "code",
   "execution_count": 7,
   "metadata": {},
   "outputs": [
    {
     "name": "stdout",
     "output_type": "stream",
     "text": [
      "<class 'pandas.core.frame.DataFrame'>\n",
      "RangeIndex: 1728 entries, 0 to 1727\n",
      "Data columns (total 7 columns):\n",
      " #   Column             Non-Null Count  Dtype \n",
      "---  ------             --------------  ----- \n",
      " 0   Buying_Price       1728 non-null   object\n",
      " 1   Maintenance_Price  1728 non-null   object\n",
      " 2   No_of_Doors        1728 non-null   object\n",
      " 3   Person_Capacity    1728 non-null   object\n",
      " 4   Size_of_Luggage    1728 non-null   object\n",
      " 5   Safety             1728 non-null   object\n",
      " 6   Car_Acceptability  1728 non-null   object\n",
      "dtypes: object(7)\n",
      "memory usage: 94.6+ KB\n"
     ]
    }
   ],
   "source": [
    "# Seeing information about data.\n",
    "df.info()"
   ]
  },
  {
   "cell_type": "code",
   "execution_count": 8,
   "metadata": {},
   "outputs": [
    {
     "data": {
      "text/plain": [
       "Index(['Buying_Price', 'Maintenance_Price', 'No_of_Doors', 'Person_Capacity',\n",
       "       'Size_of_Luggage', 'Safety', 'Car_Acceptability'],\n",
       "      dtype='object')"
      ]
     },
     "execution_count": 8,
     "metadata": {},
     "output_type": "execute_result"
    }
   ],
   "source": [
    "df.columns"
   ]
  },
  {
   "cell_type": "code",
   "execution_count": 9,
   "metadata": {},
   "outputs": [
    {
     "name": "stdout",
     "output_type": "stream",
     "text": [
      "vhigh    432\n",
      "high     432\n",
      "med      432\n",
      "low      432\n",
      "Name: Buying_Price, dtype: int64\n",
      "--------------------------------------------------\n",
      "vhigh    432\n",
      "high     432\n",
      "med      432\n",
      "low      432\n",
      "Name: Maintenance_Price, dtype: int64\n",
      "--------------------------------------------------\n",
      "2        432\n",
      "3        432\n",
      "4        432\n",
      "5more    432\n",
      "Name: No_of_Doors, dtype: int64\n",
      "--------------------------------------------------\n",
      "2       576\n",
      "4       576\n",
      "more    576\n",
      "Name: Person_Capacity, dtype: int64\n",
      "--------------------------------------------------\n",
      "small    576\n",
      "med      576\n",
      "big      576\n",
      "Name: Size_of_Luggage, dtype: int64\n",
      "--------------------------------------------------\n",
      "low     576\n",
      "med     576\n",
      "high    576\n",
      "Name: Safety, dtype: int64\n",
      "--------------------------------------------------\n",
      "unacc    1210\n",
      "acc       384\n",
      "good       69\n",
      "vgood      65\n",
      "Name: Car_Acceptability, dtype: int64\n",
      "--------------------------------------------------\n"
     ]
    }
   ],
   "source": [
    "categorical_features = ['Buying_Price', 'Maintenance_Price', 'No_of_Doors', 'Person_Capacity',\n",
    "                        'Size_of_Luggage', 'Safety', 'Car_Acceptability']\n",
    "\n",
    "for i in categorical_features:\n",
    "    print(df[i].value_counts())\n",
    "    print('-' * 50)"
   ]
  },
  {
   "cell_type": "markdown",
   "metadata": {},
   "source": [
    "### Data Visualization"
   ]
  },
  {
   "cell_type": "code",
   "execution_count": 10,
   "metadata": {},
   "outputs": [
    {
     "data": {
      "image/png": "[encoded data removed]",
      "text/plain": [
       "<Figure size 1500x1000 with 6 Axes>"
      ]
     },
     "metadata": {},
     "output_type": "display_data"
    }
   ],
   "source": [
    "import matplotlib.pyplot as plt\n",
    "import seaborn as sns\n",
    "\n",
    "# Your DataFrame is assumed to be named 'df'\n",
    "plt.figure(figsize=(15, 10))\n",
    "\n",
    "# Plotting count plots for each categorical column\n",
    "for i, column in enumerate(df.columns[:-1]):  # Excluding the target variable\n",
    "    plt.subplot(3, 3, i + 1)\n",
    "    sns.countplot(data=df, x=column)\n",
    "    plt.title(f\"Distribution of {column}\")\n",
    "    plt.xlabel(column)\n",
    "    plt.ylabel('Count')\n",
    "    plt.xticks(rotation=45)  # Rotate x-labels for better readability\n",
    "\n",
    "plt.tight_layout()\n",
    "plt.show()"
   ]
  },
  {
   "cell_type": "code",
   "execution_count": 11,
   "metadata": {},
   "outputs": [
    {
     "data": {
      "image/png": "[encoded data removed]",
      "text/plain": [
       "<Figure size 800x600 with 1 Axes>"
      ]
     },
     "metadata": {},
     "output_type": "display_data"
    }
   ],
   "source": [
    "import matplotlib.pyplot as plt\n",
    "import seaborn as sns\n",
    "\n",
    "plt.figure(figsize=(8, 6))\n",
    "\n",
    "sns.countplot(data=df, x='Car_Acceptability')\n",
    "plt.title('Distribution of Car Acceptability')\n",
    "plt.xlabel('Acceptability Categories')\n",
    "plt.ylabel('Count')\n",
    "\n",
    "plt.show()"
   ]
  },
  {
   "cell_type": "markdown",
   "metadata": {},
   "source": [
    "## Feature Engineering"
   ]
  },
  {
   "cell_type": "code",
   "execution_count": 12,
   "metadata": {},
   "outputs": [],
   "source": [
    "from sklearn.preprocessing import OrdinalEncoder, OneHotEncoder, LabelEncoder\n",
    "\n",
    "# Initialize encoders\n",
    "ordinal_enc = OrdinalEncoder()\n",
    "one_hot_enc = OneHotEncoder(drop='first')  # Drop first column to avoid multicollinearity\n",
    "label_enc = LabelEncoder()\n",
    "\n",
    "# Example: Ordinal Encoding for 'Buying_Price' and 'Maintenance_Price' columns\n",
    "df['Buying_Price_Encoded'] = ordinal_enc.fit_transform(df[['Buying_Price']])\n",
    "df['Maintenance_Price_Encoded'] = ordinal_enc.fit_transform(df[['Maintenance_Price']])\n",
    "\n",
    "# Example: One-Hot Encoding for 'Size_of_Luggage' and 'Safety' columns\n",
    "one_hot_encoded = one_hot_enc.fit_transform(df[['Size_of_Luggage', 'Safety']]).toarray()\n",
    "one_hot_columns = one_hot_enc.get_feature_names_out(['Size_of_Luggage', 'Safety'])\n",
    "df[one_hot_columns] = one_hot_encoded\n",
    "\n",
    "# Example: Label Encoding for the target variable 'Car_Acceptability'\n",
    "df['Car_Acceptability_Encoded'] = label_enc.fit_transform(df['Car_Acceptability'])\n",
    "\n",
    "# Mapping categorical values to numeric values for 'No_of_Doors'\n",
    "door_mapping = {'2': 2, '3': 3, '4': 4, '5more': 5}\n",
    "df['No_of_Doors_Numeric'] = df['No_of_Doors'].map(door_mapping)\n",
    "\n",
    "# Mapping categorical values to numeric values for 'Person_Capacity'\n",
    "person_mapping = {'2': 2, '4': 4, 'more': 6}  # Assuming 'more' refers to more than 4\n",
    "df['Person_Capacity_Numeric'] = df['Person_Capacity'].map(person_mapping)\n",
    "\n",
    "# Drop the original categorical columns\n",
    "df.drop(['Buying_Price', 'Maintenance_Price', 'Size_of_Luggage', 'Safety', 'Car_Acceptability', 'No_of_Doors', 'Person_Capacity'], axis=1, inplace=True)"
   ]
  },
  {
   "cell_type": "code",
   "execution_count": 13,
   "metadata": {},
   "outputs": [
    {
     "name": "stdout",
     "output_type": "stream",
     "text": [
      "Class: acc -> Encoded Value: 0\n",
      "Class: good -> Encoded Value: 1\n",
      "Class: unacc -> Encoded Value: 2\n",
      "Class: vgood -> Encoded Value: 3\n"
     ]
    }
   ],
   "source": [
    "# Print the encoded values for 'Car_Acceptability'\n",
    "encoded_classes = label_enc.classes_\n",
    "encoded_values = label_enc.transform(encoded_classes)\n",
    "\n",
    "for cls, val in zip(encoded_classes, encoded_values):\n",
    "    print(f\"Class: {cls} -> Encoded Value: {val}\")"
   ]
  },
  {
   "cell_type": "code",
   "execution_count": 14,
   "metadata": {},
   "outputs": [
    {
     "data": {
      "text/html": [
       "<div>\n",
       "<style scoped>\n",
       "    .dataframe tbody tr th:only-of-type {\n",
       "        vertical-align: middle;\n",
       "    }\n",
       "\n",
       "    .dataframe tbody tr th {\n",
       "        vertical-align: top;\n",
       "    }\n",
       "\n",
       "    .dataframe thead th {\n",
       "        text-align: right;\n",
       "    }\n",
       "</style>\n",
       "<table border=\"1\" class=\"dataframe\">\n",
       "  <thead>\n",
       "    <tr style=\"text-align: right;\">\n",
       "      <th></th>\n",
       "      <th>Buying_Price_Encoded</th>\n",
       "      <th>Maintenance_Price_Encoded</th>\n",
       "      <th>Size_of_Luggage_med</th>\n",
       "      <th>Size_of_Luggage_small</th>\n",
       "      <th>Safety_low</th>\n",
       "      <th>Safety_med</th>\n",
       "      <th>Car_Acceptability_Encoded</th>\n",
       "      <th>No_of_Doors_Numeric</th>\n",
       "      <th>Person_Capacity_Numeric</th>\n",
       "    </tr>\n",
       "  </thead>\n",
       "  <tbody>\n",
       "    <tr>\n",
       "      <th>0</th>\n",
       "      <td>3.0</td>\n",
       "      <td>3.0</td>\n",
       "      <td>0.0</td>\n",
       "      <td>1.0</td>\n",
       "      <td>1.0</td>\n",
       "      <td>0.0</td>\n",
       "      <td>2</td>\n",
       "      <td>2</td>\n",
       "      <td>2</td>\n",
       "    </tr>\n",
       "    <tr>\n",
       "      <th>1</th>\n",
       "      <td>3.0</td>\n",
       "      <td>3.0</td>\n",
       "      <td>0.0</td>\n",
       "      <td>1.0</td>\n",
       "      <td>0.0</td>\n",
       "      <td>1.0</td>\n",
       "      <td>2</td>\n",
       "      <td>2</td>\n",
       "      <td>2</td>\n",
       "    </tr>\n",
       "    <tr>\n",
       "      <th>2</th>\n",
       "      <td>3.0</td>\n",
       "      <td>3.0</td>\n",
       "      <td>0.0</td>\n",
       "      <td>1.0</td>\n",
       "      <td>0.0</td>\n",
       "      <td>0.0</td>\n",
       "      <td>2</td>\n",
       "      <td>2</td>\n",
       "      <td>2</td>\n",
       "    </tr>\n",
       "    <tr>\n",
       "      <th>3</th>\n",
       "      <td>3.0</td>\n",
       "      <td>3.0</td>\n",
       "      <td>1.0</td>\n",
       "      <td>0.0</td>\n",
       "      <td>1.0</td>\n",
       "      <td>0.0</td>\n",
       "      <td>2</td>\n",
       "      <td>2</td>\n",
       "      <td>2</td>\n",
       "    </tr>\n",
       "    <tr>\n",
       "      <th>4</th>\n",
       "      <td>3.0</td>\n",
       "      <td>3.0</td>\n",
       "      <td>1.0</td>\n",
       "      <td>0.0</td>\n",
       "      <td>0.0</td>\n",
       "      <td>1.0</td>\n",
       "      <td>2</td>\n",
       "      <td>2</td>\n",
       "      <td>2</td>\n",
       "    </tr>\n",
       "  </tbody>\n",
       "</table>\n",
       "</div>"
      ],
      "text/plain": [
       "   Buying_Price_Encoded  Maintenance_Price_Encoded  Size_of_Luggage_med  \\\n",
       "0                   3.0                        3.0                  0.0   \n",
       "1                   3.0                        3.0                  0.0   \n",
       "2                   3.0                        3.0                  0.0   \n",
       "3                   3.0                        3.0                  1.0   \n",
       "4                   3.0                        3.0                  1.0   \n",
       "\n",
       "   Size_of_Luggage_small  Safety_low  Safety_med  Car_Acceptability_Encoded  \\\n",
       "0                    1.0         1.0         0.0                          2   \n",
       "1                    1.0         0.0         1.0                          2   \n",
       "2                    1.0         0.0         0.0                          2   \n",
       "3                    0.0         1.0         0.0                          2   \n",
       "4                    0.0         0.0         1.0                          2   \n",
       "\n",
       "   No_of_Doors_Numeric  Person_Capacity_Numeric  \n",
       "0                    2                        2  \n",
       "1                    2                        2  \n",
       "2                    2                        2  \n",
       "3                    2                        2  \n",
       "4                    2                        2  "
      ]
     },
     "execution_count": 14,
     "metadata": {},
     "output_type": "execute_result"
    }
   ],
   "source": [
    "df.head()"
   ]
  },
  {
   "cell_type": "code",
   "execution_count": 15,
   "metadata": {},
   "outputs": [],
   "source": [
    "from sklearn.model_selection import train_test_split\n",
    "from sklearn.ensemble import RandomForestClassifier\n",
    "from sklearn.metrics import accuracy_score, classification_report\n",
    "\n",
    "# Assuming 'data' contains your preprocessed DataFrame with features and target variable\n",
    "\n",
    "# Splitting the data into features and target variable\n",
    "X = df.drop('Car_Acceptability_Encoded', axis=1)  # Features\n",
    "y = df['Car_Acceptability_Encoded']  # Target variable\n",
    "\n",
    "# Splitting the data into training and testing sets (80% train, 20% test)\n",
    "X_train, X_test, y_train, y_test = train_test_split(X, y, test_size=0.2, random_state=42)"
   ]
  },
  {
   "cell_type": "markdown",
   "metadata": {},
   "source": [
    "## Model Training and Evaluation"
   ]
  },
  {
   "cell_type": "code",
   "execution_count": 16,
   "metadata": {},
   "outputs": [
    {
     "name": "stdout",
     "output_type": "stream",
     "text": [
      "Accuracy: 0.9653\n",
      "Classification Report:\n",
      "              precision    recall  f1-score   support\n",
      "\n",
      "           0       0.99      0.88      0.93        83\n",
      "           1       0.56      0.91      0.69        11\n",
      "           2       0.99      1.00      1.00       235\n",
      "           3       0.94      0.94      0.94        17\n",
      "\n",
      "    accuracy                           0.97       346\n",
      "   macro avg       0.87      0.93      0.89       346\n",
      "weighted avg       0.97      0.97      0.97       346\n",
      "\n"
     ]
    }
   ],
   "source": [
    "# Initialize and train a Random Forest Classifier\n",
    "rf_classifier = RandomForestClassifier(n_estimators=100, random_state=42)\n",
    "rf_classifier.fit(X_train, y_train)\n",
    "\n",
    "# Predicting on the test set\n",
    "y_pred = rf_classifier.predict(X_test)\n",
    "\n",
    "# Evaluating the model\n",
    "accuracy = accuracy_score(y_test, y_pred)\n",
    "print(f\"Accuracy: {accuracy:.4f}\")\n",
    "\n",
    "# Classification report\n",
    "print(\"Classification Report:\")\n",
    "print(classification_report(y_test, y_pred))"
   ]
  },
  {
   "cell_type": "code",
   "execution_count": 17,
   "metadata": {},
   "outputs": [],
   "source": [
    "# Define a list of models to evaluate\n",
    "models = [\n",
    "    LogisticRegression(max_iter=1000),\n",
    "    DecisionTreeClassifier(),\n",
    "    RandomForestClassifier()\n",
    "]"
   ]
  },
  {
   "cell_type": "code",
   "execution_count": 18,
   "metadata": {},
   "outputs": [
    {
     "name": "stdout",
     "output_type": "stream",
     "text": [
      "LogisticRegression: Mean Accuracy = 0.7727776905770941\n",
      "LogisticRegression Classification Report:\n",
      "              precision    recall  f1-score   support\n",
      "\n",
      "           0       0.53      0.59      0.56       301\n",
      "           1       1.00      0.00      0.00        58\n",
      "           2       0.85      0.91      0.88       975\n",
      "           3       0.00      0.00      1.00        48\n",
      "\n",
      "    accuracy                           0.77      1382\n",
      "   macro avg       0.60      0.38      0.61      1382\n",
      "weighted avg       0.76      0.77      0.78      1382\n",
      "\n",
      "\n",
      "\n",
      "DecisionTreeClassifier: Mean Accuracy = 0.9797389211531419\n",
      "DecisionTreeClassifier Classification Report:\n",
      "              precision    recall  f1-score   support\n",
      "\n",
      "           0       0.95      0.97      0.96       301\n",
      "           1       0.95      0.90      0.92        58\n",
      "           2       1.00      0.99      0.99       975\n",
      "           3       0.94      0.92      0.93        48\n",
      "\n",
      "    accuracy                           0.98      1382\n",
      "   macro avg       0.96      0.94      0.95      1382\n",
      "weighted avg       0.98      0.98      0.98      1382\n",
      "\n",
      "\n",
      "\n",
      "RandomForestClassifier: Mean Accuracy = 0.9609140375660544\n",
      "RandomForestClassifier Classification Report:\n",
      "              precision    recall  f1-score   support\n",
      "\n",
      "           0       0.90      0.95      0.93       301\n",
      "           1       0.92      0.81      0.86        58\n",
      "           2       0.99      0.99      0.99       975\n",
      "           3       0.95      0.88      0.91        48\n",
      "\n",
      "    accuracy                           0.97      1382\n",
      "   macro avg       0.94      0.90      0.92      1382\n",
      "weighted avg       0.97      0.97      0.97      1382\n",
      "\n",
      "\n",
      "\n"
     ]
    }
   ],
   "source": [
    "from sklearn.model_selection import cross_val_predict\n",
    "\n",
    "# Iterate over each model and evaluate its accuracy using cross-validation.\n",
    "for model in models:\n",
    "    # Perform cross-validation and get predictions\n",
    "    y_pred_cv = cross_val_predict(model, X_train, y_train, cv=5)\n",
    "    \n",
    "    # Print the mean accuracy score for the current model\n",
    "    scores = cross_val_score(model, X_train, y_train, cv=5)\n",
    "    print(f\"{model.__class__.__name__}: Mean Accuracy = {scores.mean()}\")\n",
    "\n",
    "    # Print the classification report for the current model\n",
    "    print(f\"{model.__class__.__name__} Classification Report:\")\n",
    "    print(classification_report(y_train, y_pred_cv, zero_division=1))\n",
    "    print(\"\\n\")"
   ]
  },
  {
   "cell_type": "code",
   "execution_count": 19,
   "metadata": {},
   "outputs": [
    {
     "name": "stdout",
     "output_type": "stream",
     "text": [
      "Accuracy: 0.968\n"
     ]
    }
   ],
   "source": [
    "# Make tha random forest model with specific best hyperparameters.\n",
    "model = DecisionTreeClassifier()\n",
    "\n",
    "# Fit the model.\n",
    "model.fit(X_train, y_train)\n",
    "\n",
    "# Predict y-predict.\n",
    "y_pred = model.predict(X_test)\n",
    "\n",
    "# Evaluate the accuracy of y-predict.\n",
    "acc = accuracy_score(y_test, y_pred)\n",
    "print(f\"Accuracy: {acc:.3f}\")"
   ]
  },
  {
   "cell_type": "code",
   "execution_count": 20,
   "metadata": {},
   "outputs": [
    {
     "data": {
      "text/plain": [
       "['../models/car_accept.joblib']"
      ]
     },
     "execution_count": 20,
     "metadata": {},
     "output_type": "execute_result"
    }
   ],
   "source": [
    "import joblib\n",
    "\n",
    "# Assuming 'model' is your trained DecisionTreeClassifier\n",
    "joblib.dump(model, '../models/car_accept.joblib')"
   ]
  },
  {
   "cell_type": "markdown",
   "metadata": {},
   "source": [
    "## Feature Importance"
   ]
  },
  {
   "cell_type": "code",
   "execution_count": 21,
   "metadata": {},
   "outputs": [
    {
     "data": {
      "image/png": "[encoded data removed]",
      "text/plain": [
       "<Figure size 640x480 with 1 Axes>"
      ]
     },
     "metadata": {},
     "output_type": "display_data"
    }
   ],
   "source": [
    "# Get feature importances\n",
    "feature_importance = model.feature_importances_\n",
    "\n",
    "# Sort feature importance indices\n",
    "sorted_idx = np.argsort(feature_importance)\n",
    "\n",
    "# Retrieve feature names\n",
    "features = X.columns\n",
    "\n",
    "# Plot feature importance\n",
    "plt.figure()\n",
    "plt.barh(range(len(sorted_idx)), feature_importance[sorted_idx], align='center', color='skyblue')\n",
    "plt.yticks(range(len(sorted_idx)), features[sorted_idx])\n",
    "plt.xlabel('Feature Importance')\n",
    "plt.title('Feature Importance')\n",
    "plt.show()"
   ]
  }
 ],
 "metadata": {
  "kernelspec": {
   "display_name": "Python 3",
   "language": "python",
   "name": "python3"
  },
  "language_info": {
   "codemirror_mode": {
    "name": "ipython",
    "version": 3
   },
   "file_extension": ".py",
   "mimetype": "text/x-python",
   "name": "python",
   "nbconvert_exporter": "python",
   "pygments_lexer": "ipython3",
   "version": "3.11.3"
  }
 },
 "nbformat": 4,
 "nbformat_minor": 2
}
